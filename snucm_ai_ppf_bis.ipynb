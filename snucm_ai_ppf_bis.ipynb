{
  "nbformat": 4,
  "nbformat_minor": 0,
  "metadata": {
    "colab": {
      "provenance": [],
      "collapsed_sections": [],
      "toc_visible": true
    },
    "kernelspec": {
      "name": "python3",
      "display_name": "Python 3"
    },
    "accelerator": "GPU"
  },
  "cells": [
    {
      "cell_type": "markdown",
      "metadata": {
        "id": "Yy0WHpW3X9oX"
      },
      "source": [
        "# 약물 효과 예측 인공지능 모델 실습\n",
        "프로포폴, 레미펜타닐 투여 후 마취 심도(bispectral index) 예측 모델"
      ]
    },
    {
      "cell_type": "markdown",
      "metadata": {
        "id": "9SwIjOX9frk6"
      },
      "source": [
        "## 본 프로그램에서 이용할 라이브러리 설치 및 import"
      ]
    },
    {
      "cell_type": "code",
      "metadata": {
        "id": "Ch6czkFZfw_G",
        "colab": {
          "base_uri": "https://localhost:8080/"
        },
        "outputId": "6a904fe0-cd43-480d-fc6c-55f1106dcbb9"
      },
      "source": [
        "!pip install vitaldb\n",
        "\n",
        "import vitaldb\n",
        "import numpy as np\n",
        "import pandas as pd\n",
        "import matplotlib.pyplot as plt"
      ],
      "execution_count": 1,
      "outputs": [
        {
          "output_type": "stream",
          "name": "stdout",
          "text": [
            "Looking in indexes: https://pypi.org/simple, https://us-python.pkg.dev/colab-wheels/public/simple/\n",
            "Collecting vitaldb\n",
            "  Downloading vitaldb-1.2.4-py3-none-any.whl (51 kB)\n",
            "\u001b[K     |████████████████████████████████| 51 kB 465 kB/s \n",
            "\u001b[?25hRequirement already satisfied: requests in /usr/local/lib/python3.7/dist-packages (from vitaldb) (2.23.0)\n",
            "Collecting wfdb\n",
            "  Downloading wfdb-4.0.0-py3-none-any.whl (161 kB)\n",
            "\u001b[K     |████████████████████████████████| 161 kB 31.7 MB/s \n",
            "\u001b[?25hRequirement already satisfied: pandas in /usr/local/lib/python3.7/dist-packages (from vitaldb) (1.3.5)\n",
            "Requirement already satisfied: numpy in /usr/local/lib/python3.7/dist-packages (from vitaldb) (1.21.6)\n",
            "Collecting s3fs\n",
            "  Downloading s3fs-2022.8.2-py3-none-any.whl (27 kB)\n",
            "Requirement already satisfied: pyarrow in /usr/local/lib/python3.7/dist-packages (from vitaldb) (6.0.1)\n",
            "Requirement already satisfied: pytz>=2017.3 in /usr/local/lib/python3.7/dist-packages (from pandas->vitaldb) (2022.2.1)\n",
            "Requirement already satisfied: python-dateutil>=2.7.3 in /usr/local/lib/python3.7/dist-packages (from pandas->vitaldb) (2.8.2)\n",
            "Requirement already satisfied: six>=1.5 in /usr/local/lib/python3.7/dist-packages (from python-dateutil>=2.7.3->pandas->vitaldb) (1.15.0)\n",
            "Requirement already satisfied: certifi>=2017.4.17 in /usr/local/lib/python3.7/dist-packages (from requests->vitaldb) (2022.6.15)\n",
            "Requirement already satisfied: chardet<4,>=3.0.2 in /usr/local/lib/python3.7/dist-packages (from requests->vitaldb) (3.0.4)\n",
            "Requirement already satisfied: urllib3!=1.25.0,!=1.25.1,<1.26,>=1.21.1 in /usr/local/lib/python3.7/dist-packages (from requests->vitaldb) (1.24.3)\n",
            "Requirement already satisfied: idna<3,>=2.5 in /usr/local/lib/python3.7/dist-packages (from requests->vitaldb) (2.10)\n",
            "Requirement already satisfied: fsspec==2022.8.2 in /usr/local/lib/python3.7/dist-packages (from s3fs->vitaldb) (2022.8.2)\n",
            "Requirement already satisfied: aiohttp!=4.0.0a0,!=4.0.0a1 in /usr/local/lib/python3.7/dist-packages (from s3fs->vitaldb) (3.8.1)\n",
            "Collecting aiobotocore~=2.4.0\n",
            "  Downloading aiobotocore-2.4.0-py3-none-any.whl (65 kB)\n",
            "\u001b[K     |████████████████████████████████| 65 kB 4.9 MB/s \n",
            "\u001b[?25hRequirement already satisfied: wrapt>=1.10.10 in /usr/local/lib/python3.7/dist-packages (from aiobotocore~=2.4.0->s3fs->vitaldb) (1.14.1)\n",
            "Collecting botocore<1.27.60,>=1.27.59\n",
            "  Downloading botocore-1.27.59-py3-none-any.whl (9.1 MB)\n",
            "\u001b[K     |████████████████████████████████| 9.1 MB 64.8 MB/s \n",
            "\u001b[?25hCollecting aioitertools>=0.5.1\n",
            "  Downloading aioitertools-0.10.0-py3-none-any.whl (23 kB)\n",
            "Requirement already satisfied: multidict<7.0,>=4.5 in /usr/local/lib/python3.7/dist-packages (from aiohttp!=4.0.0a0,!=4.0.0a1->s3fs->vitaldb) (6.0.2)\n",
            "Requirement already satisfied: yarl<2.0,>=1.0 in /usr/local/lib/python3.7/dist-packages (from aiohttp!=4.0.0a0,!=4.0.0a1->s3fs->vitaldb) (1.8.1)\n",
            "Requirement already satisfied: typing-extensions>=3.7.4 in /usr/local/lib/python3.7/dist-packages (from aiohttp!=4.0.0a0,!=4.0.0a1->s3fs->vitaldb) (4.1.1)\n",
            "Requirement already satisfied: charset-normalizer<3.0,>=2.0 in /usr/local/lib/python3.7/dist-packages (from aiohttp!=4.0.0a0,!=4.0.0a1->s3fs->vitaldb) (2.1.1)\n",
            "Requirement already satisfied: async-timeout<5.0,>=4.0.0a3 in /usr/local/lib/python3.7/dist-packages (from aiohttp!=4.0.0a0,!=4.0.0a1->s3fs->vitaldb) (4.0.2)\n",
            "Requirement already satisfied: asynctest==0.13.0 in /usr/local/lib/python3.7/dist-packages (from aiohttp!=4.0.0a0,!=4.0.0a1->s3fs->vitaldb) (0.13.0)\n",
            "Requirement already satisfied: aiosignal>=1.1.2 in /usr/local/lib/python3.7/dist-packages (from aiohttp!=4.0.0a0,!=4.0.0a1->s3fs->vitaldb) (1.2.0)\n",
            "Requirement already satisfied: attrs>=17.3.0 in /usr/local/lib/python3.7/dist-packages (from aiohttp!=4.0.0a0,!=4.0.0a1->s3fs->vitaldb) (22.1.0)\n",
            "Requirement already satisfied: frozenlist>=1.1.1 in /usr/local/lib/python3.7/dist-packages (from aiohttp!=4.0.0a0,!=4.0.0a1->s3fs->vitaldb) (1.3.1)\n",
            "Collecting jmespath<2.0.0,>=0.7.1\n",
            "  Downloading jmespath-1.0.1-py3-none-any.whl (20 kB)\n",
            "Collecting urllib3!=1.25.0,!=1.25.1,<1.26,>=1.21.1\n",
            "  Downloading urllib3-1.25.11-py2.py3-none-any.whl (127 kB)\n",
            "\u001b[K     |████████████████████████████████| 127 kB 54.4 MB/s \n",
            "\u001b[?25hRequirement already satisfied: scipy<2.0.0,>=1.0.0 in /usr/local/lib/python3.7/dist-packages (from wfdb->vitaldb) (1.7.3)\n",
            "Requirement already satisfied: matplotlib<4.0.0,>=3.2.2 in /usr/local/lib/python3.7/dist-packages (from wfdb->vitaldb) (3.2.2)\n",
            "Requirement already satisfied: SoundFile<0.12.0,>=0.10.0 in /usr/local/lib/python3.7/dist-packages (from wfdb->vitaldb) (0.10.3.post1)\n",
            "Requirement already satisfied: pyparsing!=2.0.4,!=2.1.2,!=2.1.6,>=2.0.1 in /usr/local/lib/python3.7/dist-packages (from matplotlib<4.0.0,>=3.2.2->wfdb->vitaldb) (3.0.9)\n",
            "Requirement already satisfied: kiwisolver>=1.0.1 in /usr/local/lib/python3.7/dist-packages (from matplotlib<4.0.0,>=3.2.2->wfdb->vitaldb) (1.4.4)\n",
            "Requirement already satisfied: cycler>=0.10 in /usr/local/lib/python3.7/dist-packages (from matplotlib<4.0.0,>=3.2.2->wfdb->vitaldb) (0.11.0)\n",
            "Requirement already satisfied: cffi>=1.0 in /usr/local/lib/python3.7/dist-packages (from SoundFile<0.12.0,>=0.10.0->wfdb->vitaldb) (1.15.1)\n",
            "Requirement already satisfied: pycparser in /usr/local/lib/python3.7/dist-packages (from cffi>=1.0->SoundFile<0.12.0,>=0.10.0->wfdb->vitaldb) (2.21)\n",
            "Installing collected packages: urllib3, jmespath, botocore, aioitertools, aiobotocore, wfdb, s3fs, vitaldb\n",
            "  Attempting uninstall: urllib3\n",
            "    Found existing installation: urllib3 1.24.3\n",
            "    Uninstalling urllib3-1.24.3:\n",
            "      Successfully uninstalled urllib3-1.24.3\n",
            "Successfully installed aiobotocore-2.4.0 aioitertools-0.10.0 botocore-1.27.59 jmespath-1.0.1 s3fs-2022.8.2 urllib3-1.25.11 vitaldb-1.2.4 wfdb-4.0.0\n"
          ]
        }
      ]
    },
    {
      "cell_type": "markdown",
      "metadata": {
        "id": "ZjxFdZTXBZWb"
      },
      "source": [
        "# Data loading"
      ]
    },
    {
      "cell_type": "markdown",
      "metadata": {
        "id": "AabTJc6dflSy"
      },
      "source": [
        "##VitalDB Web API를 통해 데이터 로딩\n"
      ]
    },
    {
      "cell_type": "code",
      "source": [
        "df_trks = pd.read_csv('https://api.vitaldb.net/trks')\n",
        "df_cases = pd.read_csv(\"https://api.vitaldb.net/cases\")"
      ],
      "metadata": {
        "id": "HYLisyUb5TAU"
      },
      "execution_count": 2,
      "outputs": []
    },
    {
      "cell_type": "code",
      "source": [
        "# Track DataFrame확인    ## .head(), .tail()도 사용가능.\n",
        "df_trks"
      ],
      "metadata": {
        "id": "576gN5jL5WWw",
        "colab": {
          "base_uri": "https://localhost:8080/",
          "height": 423
        },
        "outputId": "8d2e5f5a-56f2-4c5d-879e-119eb8e52939"
      },
      "execution_count": 3,
      "outputs": [
        {
          "output_type": "execute_result",
          "data": {
            "text/plain": [
              "        caseid                  tname  \\\n",
              "0            1                BIS/BIS   \n",
              "1            1           BIS/EEG1_WAV   \n",
              "2            1           BIS/EEG2_WAV   \n",
              "3            1                BIS/EMG   \n",
              "4            1                BIS/SEF   \n",
              "...        ...                    ...   \n",
              "486444    6388     Solar8000/VENT_PIP   \n",
              "486445    6388   Solar8000/VENT_PPLAT   \n",
              "486446    6388      Solar8000/VENT_RR   \n",
              "486447    6388  Solar8000/VENT_SET_TV   \n",
              "486448    6388      Solar8000/VENT_TV   \n",
              "\n",
              "                                             tid  \n",
              "0       fd869e25ba82a66cc95b38ed47110bf4f14bb368  \n",
              "1       0aa685df768489a18a5e9f53af0d83bf60890c73  \n",
              "2       ad13b2c39b19193c8ae4a2de4f8315f18d61a57e  \n",
              "3       2525603efe18d982764dbca457affe7a45e766a9  \n",
              "4       1c91aec859304840dec75acf4a35da78be0e8ef0  \n",
              "...                                          ...  \n",
              "486444  2d63adbc7e2653f14348e219816673cde3358cf6  \n",
              "486445  6f6604255858ddc8f6a01b9f4774b0d43105f6da  \n",
              "486446  f34f3fae7fd963355c1c7060e1e876d20fa87536  \n",
              "486447  4a4a55b8aebf9c76a4a76f62a7c1ec6fcb80e618  \n",
              "486448  77453bd3c4bf24ce13e577781a51929281f3b7f2  \n",
              "\n",
              "[486449 rows x 3 columns]"
            ],
            "text/html": [
              "\n",
              "  <div id=\"df-fdeae0bd-8bda-43ee-8b0f-398df2f4ba74\">\n",
              "    <div class=\"colab-df-container\">\n",
              "      <div>\n",
              "<style scoped>\n",
              "    .dataframe tbody tr th:only-of-type {\n",
              "        vertical-align: middle;\n",
              "    }\n",
              "\n",
              "    .dataframe tbody tr th {\n",
              "        vertical-align: top;\n",
              "    }\n",
              "\n",
              "    .dataframe thead th {\n",
              "        text-align: right;\n",
              "    }\n",
              "</style>\n",
              "<table border=\"1\" class=\"dataframe\">\n",
              "  <thead>\n",
              "    <tr style=\"text-align: right;\">\n",
              "      <th></th>\n",
              "      <th>caseid</th>\n",
              "      <th>tname</th>\n",
              "      <th>tid</th>\n",
              "    </tr>\n",
              "  </thead>\n",
              "  <tbody>\n",
              "    <tr>\n",
              "      <th>0</th>\n",
              "      <td>1</td>\n",
              "      <td>BIS/BIS</td>\n",
              "      <td>fd869e25ba82a66cc95b38ed47110bf4f14bb368</td>\n",
              "    </tr>\n",
              "    <tr>\n",
              "      <th>1</th>\n",
              "      <td>1</td>\n",
              "      <td>BIS/EEG1_WAV</td>\n",
              "      <td>0aa685df768489a18a5e9f53af0d83bf60890c73</td>\n",
              "    </tr>\n",
              "    <tr>\n",
              "      <th>2</th>\n",
              "      <td>1</td>\n",
              "      <td>BIS/EEG2_WAV</td>\n",
              "      <td>ad13b2c39b19193c8ae4a2de4f8315f18d61a57e</td>\n",
              "    </tr>\n",
              "    <tr>\n",
              "      <th>3</th>\n",
              "      <td>1</td>\n",
              "      <td>BIS/EMG</td>\n",
              "      <td>2525603efe18d982764dbca457affe7a45e766a9</td>\n",
              "    </tr>\n",
              "    <tr>\n",
              "      <th>4</th>\n",
              "      <td>1</td>\n",
              "      <td>BIS/SEF</td>\n",
              "      <td>1c91aec859304840dec75acf4a35da78be0e8ef0</td>\n",
              "    </tr>\n",
              "    <tr>\n",
              "      <th>...</th>\n",
              "      <td>...</td>\n",
              "      <td>...</td>\n",
              "      <td>...</td>\n",
              "    </tr>\n",
              "    <tr>\n",
              "      <th>486444</th>\n",
              "      <td>6388</td>\n",
              "      <td>Solar8000/VENT_PIP</td>\n",
              "      <td>2d63adbc7e2653f14348e219816673cde3358cf6</td>\n",
              "    </tr>\n",
              "    <tr>\n",
              "      <th>486445</th>\n",
              "      <td>6388</td>\n",
              "      <td>Solar8000/VENT_PPLAT</td>\n",
              "      <td>6f6604255858ddc8f6a01b9f4774b0d43105f6da</td>\n",
              "    </tr>\n",
              "    <tr>\n",
              "      <th>486446</th>\n",
              "      <td>6388</td>\n",
              "      <td>Solar8000/VENT_RR</td>\n",
              "      <td>f34f3fae7fd963355c1c7060e1e876d20fa87536</td>\n",
              "    </tr>\n",
              "    <tr>\n",
              "      <th>486447</th>\n",
              "      <td>6388</td>\n",
              "      <td>Solar8000/VENT_SET_TV</td>\n",
              "      <td>4a4a55b8aebf9c76a4a76f62a7c1ec6fcb80e618</td>\n",
              "    </tr>\n",
              "    <tr>\n",
              "      <th>486448</th>\n",
              "      <td>6388</td>\n",
              "      <td>Solar8000/VENT_TV</td>\n",
              "      <td>77453bd3c4bf24ce13e577781a51929281f3b7f2</td>\n",
              "    </tr>\n",
              "  </tbody>\n",
              "</table>\n",
              "<p>486449 rows × 3 columns</p>\n",
              "</div>\n",
              "      <button class=\"colab-df-convert\" onclick=\"convertToInteractive('df-fdeae0bd-8bda-43ee-8b0f-398df2f4ba74')\"\n",
              "              title=\"Convert this dataframe to an interactive table.\"\n",
              "              style=\"display:none;\">\n",
              "        \n",
              "  <svg xmlns=\"http://www.w3.org/2000/svg\" height=\"24px\"viewBox=\"0 0 24 24\"\n",
              "       width=\"24px\">\n",
              "    <path d=\"M0 0h24v24H0V0z\" fill=\"none\"/>\n",
              "    <path d=\"M18.56 5.44l.94 2.06.94-2.06 2.06-.94-2.06-.94-.94-2.06-.94 2.06-2.06.94zm-11 1L8.5 8.5l.94-2.06 2.06-.94-2.06-.94L8.5 2.5l-.94 2.06-2.06.94zm10 10l.94 2.06.94-2.06 2.06-.94-2.06-.94-.94-2.06-.94 2.06-2.06.94z\"/><path d=\"M17.41 7.96l-1.37-1.37c-.4-.4-.92-.59-1.43-.59-.52 0-1.04.2-1.43.59L10.3 9.45l-7.72 7.72c-.78.78-.78 2.05 0 2.83L4 21.41c.39.39.9.59 1.41.59.51 0 1.02-.2 1.41-.59l7.78-7.78 2.81-2.81c.8-.78.8-2.07 0-2.86zM5.41 20L4 18.59l7.72-7.72 1.47 1.35L5.41 20z\"/>\n",
              "  </svg>\n",
              "      </button>\n",
              "      \n",
              "  <style>\n",
              "    .colab-df-container {\n",
              "      display:flex;\n",
              "      flex-wrap:wrap;\n",
              "      gap: 12px;\n",
              "    }\n",
              "\n",
              "    .colab-df-convert {\n",
              "      background-color: #E8F0FE;\n",
              "      border: none;\n",
              "      border-radius: 50%;\n",
              "      cursor: pointer;\n",
              "      display: none;\n",
              "      fill: #1967D2;\n",
              "      height: 32px;\n",
              "      padding: 0 0 0 0;\n",
              "      width: 32px;\n",
              "    }\n",
              "\n",
              "    .colab-df-convert:hover {\n",
              "      background-color: #E2EBFA;\n",
              "      box-shadow: 0px 1px 2px rgba(60, 64, 67, 0.3), 0px 1px 3px 1px rgba(60, 64, 67, 0.15);\n",
              "      fill: #174EA6;\n",
              "    }\n",
              "\n",
              "    [theme=dark] .colab-df-convert {\n",
              "      background-color: #3B4455;\n",
              "      fill: #D2E3FC;\n",
              "    }\n",
              "\n",
              "    [theme=dark] .colab-df-convert:hover {\n",
              "      background-color: #434B5C;\n",
              "      box-shadow: 0px 1px 3px 1px rgba(0, 0, 0, 0.15);\n",
              "      filter: drop-shadow(0px 1px 2px rgba(0, 0, 0, 0.3));\n",
              "      fill: #FFFFFF;\n",
              "    }\n",
              "  </style>\n",
              "\n",
              "      <script>\n",
              "        const buttonEl =\n",
              "          document.querySelector('#df-fdeae0bd-8bda-43ee-8b0f-398df2f4ba74 button.colab-df-convert');\n",
              "        buttonEl.style.display =\n",
              "          google.colab.kernel.accessAllowed ? 'block' : 'none';\n",
              "\n",
              "        async function convertToInteractive(key) {\n",
              "          const element = document.querySelector('#df-fdeae0bd-8bda-43ee-8b0f-398df2f4ba74');\n",
              "          const dataTable =\n",
              "            await google.colab.kernel.invokeFunction('convertToInteractive',\n",
              "                                                     [key], {});\n",
              "          if (!dataTable) return;\n",
              "\n",
              "          const docLinkHtml = 'Like what you see? Visit the ' +\n",
              "            '<a target=\"_blank\" href=https://colab.research.google.com/notebooks/data_table.ipynb>data table notebook</a>'\n",
              "            + ' to learn more about interactive tables.';\n",
              "          element.innerHTML = '';\n",
              "          dataTable['output_type'] = 'display_data';\n",
              "          await google.colab.output.renderOutput(dataTable, element);\n",
              "          const docLink = document.createElement('div');\n",
              "          docLink.innerHTML = docLinkHtml;\n",
              "          element.appendChild(docLink);\n",
              "        }\n",
              "      </script>\n",
              "    </div>\n",
              "  </div>\n",
              "  "
            ]
          },
          "metadata": {},
          "execution_count": 3
        }
      ]
    },
    {
      "cell_type": "code",
      "source": [
        "# Track name 확인\n",
        "df_trks[df_trks.caseid == 1].tname\n",
        "\n",
        "## same as..\n",
        "#df_trks[df_trks['caseid'] == 1]['tname']"
      ],
      "metadata": {
        "id": "exb44MvU7iPN",
        "colab": {
          "base_uri": "https://localhost:8080/"
        },
        "outputId": "79bbb72d-2b7d-42e3-e620-45f0c0073199"
      },
      "execution_count": 4,
      "outputs": [
        {
          "output_type": "execute_result",
          "data": {
            "text/plain": [
              "0                    BIS/BIS\n",
              "1               BIS/EEG1_WAV\n",
              "2               BIS/EEG2_WAV\n",
              "3                    BIS/EMG\n",
              "4                    BIS/SEF\n",
              "               ...          \n",
              "71      Solar8000/VENT_PPLAT\n",
              "72         Solar8000/VENT_RR\n",
              "73    Solar8000/VENT_SET_PCP\n",
              "74     Solar8000/VENT_SET_TV\n",
              "75         Solar8000/VENT_TV\n",
              "Name: tname, Length: 76, dtype: object"
            ]
          },
          "metadata": {},
          "execution_count": 4
        }
      ]
    },
    {
      "cell_type": "code",
      "source": [
        "# 전체 목록 확인\n",
        "df_trks[df_trks.caseid == 1].tname.tolist()\n",
        "\n",
        "##same as,\n",
        "#print(df_trks[df_trks.caseid == 1].tname.tolist())"
      ],
      "metadata": {
        "id": "KHEI1_Hg8IDn",
        "colab": {
          "base_uri": "https://localhost:8080/"
        },
        "outputId": "dc6a0ff8-5175-4154-fb69-d649511b2e0f"
      },
      "execution_count": 5,
      "outputs": [
        {
          "output_type": "execute_result",
          "data": {
            "text/plain": [
              "['BIS/BIS',\n",
              " 'BIS/EEG1_WAV',\n",
              " 'BIS/EEG2_WAV',\n",
              " 'BIS/EMG',\n",
              " 'BIS/SEF',\n",
              " 'BIS/SQI',\n",
              " 'BIS/SR',\n",
              " 'BIS/TOTPOW',\n",
              " 'Primus/AWP',\n",
              " 'Primus/CO2',\n",
              " 'Primus/COMPLIANCE',\n",
              " 'Primus/ETCO2',\n",
              " 'Primus/EXP_DES',\n",
              " 'Primus/EXP_SEVO',\n",
              " 'Primus/FEN2O',\n",
              " 'Primus/FEO2',\n",
              " 'Primus/FIN2O',\n",
              " 'Primus/FIO2',\n",
              " 'Primus/INCO2',\n",
              " 'Primus/INSP_DES',\n",
              " 'Primus/INSP_SEVO',\n",
              " 'Primus/MAC',\n",
              " 'Primus/MAWP_MBAR',\n",
              " 'Primus/MV',\n",
              " 'Primus/PAMB_MBAR',\n",
              " 'Primus/PEEP_MBAR',\n",
              " 'Primus/PIP_MBAR',\n",
              " 'Primus/PPLAT_MBAR',\n",
              " 'Primus/RR_CO2',\n",
              " 'Primus/SET_AGE',\n",
              " 'Primus/SET_FIO2',\n",
              " 'Primus/SET_FRESH_FLOW',\n",
              " 'Primus/SET_INSP_PAUSE',\n",
              " 'Primus/SET_INSP_TM',\n",
              " 'Primus/SET_INTER_PEEP',\n",
              " 'Primus/SET_PIP',\n",
              " 'Primus/SET_RR_IPPV',\n",
              " 'Primus/SET_TV_L',\n",
              " 'Primus/TV',\n",
              " 'Primus/VENT_LEAK',\n",
              " 'SNUADC/ART',\n",
              " 'SNUADC/ECG_II',\n",
              " 'SNUADC/ECG_V5',\n",
              " 'SNUADC/PLETH',\n",
              " 'Solar8000/ART_DBP',\n",
              " 'Solar8000/ART_MBP',\n",
              " 'Solar8000/ART_SBP',\n",
              " 'Solar8000/BT',\n",
              " 'Solar8000/ETCO2',\n",
              " 'Solar8000/FEO2',\n",
              " 'Solar8000/FIO2',\n",
              " 'Solar8000/GAS2_EXPIRED',\n",
              " 'Solar8000/GAS2_INSPIRED',\n",
              " 'Solar8000/HR',\n",
              " 'Solar8000/INCO2',\n",
              " 'Solar8000/NIBP_DBP',\n",
              " 'Solar8000/NIBP_MBP',\n",
              " 'Solar8000/NIBP_SBP',\n",
              " 'Solar8000/PLETH_HR',\n",
              " 'Solar8000/PLETH_SPO2',\n",
              " 'Solar8000/RR_CO2',\n",
              " 'Solar8000/ST_AVF',\n",
              " 'Solar8000/ST_AVL',\n",
              " 'Solar8000/ST_AVR',\n",
              " 'Solar8000/ST_I',\n",
              " 'Solar8000/ST_II',\n",
              " 'Solar8000/ST_III',\n",
              " 'Solar8000/VENT_INSP_TM',\n",
              " 'Solar8000/VENT_MAWP',\n",
              " 'Solar8000/VENT_MV',\n",
              " 'Solar8000/VENT_PIP',\n",
              " 'Solar8000/VENT_PPLAT',\n",
              " 'Solar8000/VENT_RR',\n",
              " 'Solar8000/VENT_SET_PCP',\n",
              " 'Solar8000/VENT_SET_TV',\n",
              " 'Solar8000/VENT_TV']"
            ]
          },
          "metadata": {},
          "execution_count": 5
        }
      ]
    },
    {
      "cell_type": "code",
      "source": [
        "# Cases DataFrame확인\n",
        "df_cases"
      ],
      "metadata": {
        "id": "aIUEfO8W5d3e",
        "colab": {
          "base_uri": "https://localhost:8080/",
          "height": 487
        },
        "outputId": "8801d1ff-1304-40f4-a857-5bddf9c68b08"
      },
      "execution_count": 6,
      "outputs": [
        {
          "output_type": "execute_result",
          "data": {
            "text/plain": [
              "      caseid  subjectid  casestart  caseend  anestart   aneend  opstart  \\\n",
              "0          1       5955          0    11542      -552  10848.0     1668   \n",
              "1          2       2487          0    15741     -1039  14921.0     1721   \n",
              "2          3       2861          0     4394      -590   4210.0     1090   \n",
              "3          4       1903          0    20990      -778  20222.0     2522   \n",
              "4          5       4416          0    21531     -1009  22391.0     2591   \n",
              "...      ...        ...        ...      ...       ...      ...      ...   \n",
              "6383    6384       5583          0    15248      -260  15640.0     2140   \n",
              "6384    6385       2278          0    20643      -544  20996.0     2396   \n",
              "6385    6386       4045          0    19451      -667  19133.0     3533   \n",
              "6386    6387       5230          0    12025      -550  12830.0     1730   \n",
              "6387    6388       1306          0    10249       -79  10121.0     2321   \n",
              "\n",
              "      opend     adm      dis  ...  intraop_colloid  intraop_ppf  intraop_mdz  \\\n",
              "0     10368 -236220   627780  ...                0          120          0.0   \n",
              "1     14621 -221160  1506840  ...                0          150          0.0   \n",
              "2      3010 -218640    40560  ...                0            0          0.0   \n",
              "3     17822 -201120   576480  ...                0           80          0.0   \n",
              "4     20291  -67560  3734040  ...                0            0          0.0   \n",
              "...     ...     ...      ...  ...              ...          ...          ...   \n",
              "6383  14140 -215340   648660  ...                0          150          0.0   \n",
              "6384  19496 -225600  1675200  ...                0          100          0.0   \n",
              "6385  18233 -200460   836340  ...                0           70          0.0   \n",
              "6386  11030 -227760   377040  ...                0          120          0.0   \n",
              "6387   9221 -312060   379140  ...              500          120          0.0   \n",
              "\n",
              "     intraop_ftn  intraop_rocu  intraop_vecu  intraop_eph  intraop_phe  \\\n",
              "0            100            70             0           10            0   \n",
              "1              0           100             0           20            0   \n",
              "2              0            50             0            0            0   \n",
              "3            100           100             0           50            0   \n",
              "4              0           160             0           10          900   \n",
              "...          ...           ...           ...          ...          ...   \n",
              "6383           0            90             0           20            0   \n",
              "6384           0           100             0           25           30   \n",
              "6385           0           130             0           10            0   \n",
              "6386           0            50             0            0            0   \n",
              "6387           0            90             0           20            0   \n",
              "\n",
              "      intraop_epi intraop_ca  \n",
              "0               0          0  \n",
              "1               0          0  \n",
              "2               0          0  \n",
              "3               0          0  \n",
              "4               0       2100  \n",
              "...           ...        ...  \n",
              "6383            0          0  \n",
              "6384            0        300  \n",
              "6385            0          0  \n",
              "6386            0          0  \n",
              "6387            0          0  \n",
              "\n",
              "[6388 rows x 74 columns]"
            ],
            "text/html": [
              "\n",
              "  <div id=\"df-e9d5ae2e-71ee-4edb-96f6-2a73fffa6a9f\">\n",
              "    <div class=\"colab-df-container\">\n",
              "      <div>\n",
              "<style scoped>\n",
              "    .dataframe tbody tr th:only-of-type {\n",
              "        vertical-align: middle;\n",
              "    }\n",
              "\n",
              "    .dataframe tbody tr th {\n",
              "        vertical-align: top;\n",
              "    }\n",
              "\n",
              "    .dataframe thead th {\n",
              "        text-align: right;\n",
              "    }\n",
              "</style>\n",
              "<table border=\"1\" class=\"dataframe\">\n",
              "  <thead>\n",
              "    <tr style=\"text-align: right;\">\n",
              "      <th></th>\n",
              "      <th>caseid</th>\n",
              "      <th>subjectid</th>\n",
              "      <th>casestart</th>\n",
              "      <th>caseend</th>\n",
              "      <th>anestart</th>\n",
              "      <th>aneend</th>\n",
              "      <th>opstart</th>\n",
              "      <th>opend</th>\n",
              "      <th>adm</th>\n",
              "      <th>dis</th>\n",
              "      <th>...</th>\n",
              "      <th>intraop_colloid</th>\n",
              "      <th>intraop_ppf</th>\n",
              "      <th>intraop_mdz</th>\n",
              "      <th>intraop_ftn</th>\n",
              "      <th>intraop_rocu</th>\n",
              "      <th>intraop_vecu</th>\n",
              "      <th>intraop_eph</th>\n",
              "      <th>intraop_phe</th>\n",
              "      <th>intraop_epi</th>\n",
              "      <th>intraop_ca</th>\n",
              "    </tr>\n",
              "  </thead>\n",
              "  <tbody>\n",
              "    <tr>\n",
              "      <th>0</th>\n",
              "      <td>1</td>\n",
              "      <td>5955</td>\n",
              "      <td>0</td>\n",
              "      <td>11542</td>\n",
              "      <td>-552</td>\n",
              "      <td>10848.0</td>\n",
              "      <td>1668</td>\n",
              "      <td>10368</td>\n",
              "      <td>-236220</td>\n",
              "      <td>627780</td>\n",
              "      <td>...</td>\n",
              "      <td>0</td>\n",
              "      <td>120</td>\n",
              "      <td>0.0</td>\n",
              "      <td>100</td>\n",
              "      <td>70</td>\n",
              "      <td>0</td>\n",
              "      <td>10</td>\n",
              "      <td>0</td>\n",
              "      <td>0</td>\n",
              "      <td>0</td>\n",
              "    </tr>\n",
              "    <tr>\n",
              "      <th>1</th>\n",
              "      <td>2</td>\n",
              "      <td>2487</td>\n",
              "      <td>0</td>\n",
              "      <td>15741</td>\n",
              "      <td>-1039</td>\n",
              "      <td>14921.0</td>\n",
              "      <td>1721</td>\n",
              "      <td>14621</td>\n",
              "      <td>-221160</td>\n",
              "      <td>1506840</td>\n",
              "      <td>...</td>\n",
              "      <td>0</td>\n",
              "      <td>150</td>\n",
              "      <td>0.0</td>\n",
              "      <td>0</td>\n",
              "      <td>100</td>\n",
              "      <td>0</td>\n",
              "      <td>20</td>\n",
              "      <td>0</td>\n",
              "      <td>0</td>\n",
              "      <td>0</td>\n",
              "    </tr>\n",
              "    <tr>\n",
              "      <th>2</th>\n",
              "      <td>3</td>\n",
              "      <td>2861</td>\n",
              "      <td>0</td>\n",
              "      <td>4394</td>\n",
              "      <td>-590</td>\n",
              "      <td>4210.0</td>\n",
              "      <td>1090</td>\n",
              "      <td>3010</td>\n",
              "      <td>-218640</td>\n",
              "      <td>40560</td>\n",
              "      <td>...</td>\n",
              "      <td>0</td>\n",
              "      <td>0</td>\n",
              "      <td>0.0</td>\n",
              "      <td>0</td>\n",
              "      <td>50</td>\n",
              "      <td>0</td>\n",
              "      <td>0</td>\n",
              "      <td>0</td>\n",
              "      <td>0</td>\n",
              "      <td>0</td>\n",
              "    </tr>\n",
              "    <tr>\n",
              "      <th>3</th>\n",
              "      <td>4</td>\n",
              "      <td>1903</td>\n",
              "      <td>0</td>\n",
              "      <td>20990</td>\n",
              "      <td>-778</td>\n",
              "      <td>20222.0</td>\n",
              "      <td>2522</td>\n",
              "      <td>17822</td>\n",
              "      <td>-201120</td>\n",
              "      <td>576480</td>\n",
              "      <td>...</td>\n",
              "      <td>0</td>\n",
              "      <td>80</td>\n",
              "      <td>0.0</td>\n",
              "      <td>100</td>\n",
              "      <td>100</td>\n",
              "      <td>0</td>\n",
              "      <td>50</td>\n",
              "      <td>0</td>\n",
              "      <td>0</td>\n",
              "      <td>0</td>\n",
              "    </tr>\n",
              "    <tr>\n",
              "      <th>4</th>\n",
              "      <td>5</td>\n",
              "      <td>4416</td>\n",
              "      <td>0</td>\n",
              "      <td>21531</td>\n",
              "      <td>-1009</td>\n",
              "      <td>22391.0</td>\n",
              "      <td>2591</td>\n",
              "      <td>20291</td>\n",
              "      <td>-67560</td>\n",
              "      <td>3734040</td>\n",
              "      <td>...</td>\n",
              "      <td>0</td>\n",
              "      <td>0</td>\n",
              "      <td>0.0</td>\n",
              "      <td>0</td>\n",
              "      <td>160</td>\n",
              "      <td>0</td>\n",
              "      <td>10</td>\n",
              "      <td>900</td>\n",
              "      <td>0</td>\n",
              "      <td>2100</td>\n",
              "    </tr>\n",
              "    <tr>\n",
              "      <th>...</th>\n",
              "      <td>...</td>\n",
              "      <td>...</td>\n",
              "      <td>...</td>\n",
              "      <td>...</td>\n",
              "      <td>...</td>\n",
              "      <td>...</td>\n",
              "      <td>...</td>\n",
              "      <td>...</td>\n",
              "      <td>...</td>\n",
              "      <td>...</td>\n",
              "      <td>...</td>\n",
              "      <td>...</td>\n",
              "      <td>...</td>\n",
              "      <td>...</td>\n",
              "      <td>...</td>\n",
              "      <td>...</td>\n",
              "      <td>...</td>\n",
              "      <td>...</td>\n",
              "      <td>...</td>\n",
              "      <td>...</td>\n",
              "      <td>...</td>\n",
              "    </tr>\n",
              "    <tr>\n",
              "      <th>6383</th>\n",
              "      <td>6384</td>\n",
              "      <td>5583</td>\n",
              "      <td>0</td>\n",
              "      <td>15248</td>\n",
              "      <td>-260</td>\n",
              "      <td>15640.0</td>\n",
              "      <td>2140</td>\n",
              "      <td>14140</td>\n",
              "      <td>-215340</td>\n",
              "      <td>648660</td>\n",
              "      <td>...</td>\n",
              "      <td>0</td>\n",
              "      <td>150</td>\n",
              "      <td>0.0</td>\n",
              "      <td>0</td>\n",
              "      <td>90</td>\n",
              "      <td>0</td>\n",
              "      <td>20</td>\n",
              "      <td>0</td>\n",
              "      <td>0</td>\n",
              "      <td>0</td>\n",
              "    </tr>\n",
              "    <tr>\n",
              "      <th>6384</th>\n",
              "      <td>6385</td>\n",
              "      <td>2278</td>\n",
              "      <td>0</td>\n",
              "      <td>20643</td>\n",
              "      <td>-544</td>\n",
              "      <td>20996.0</td>\n",
              "      <td>2396</td>\n",
              "      <td>19496</td>\n",
              "      <td>-225600</td>\n",
              "      <td>1675200</td>\n",
              "      <td>...</td>\n",
              "      <td>0</td>\n",
              "      <td>100</td>\n",
              "      <td>0.0</td>\n",
              "      <td>0</td>\n",
              "      <td>100</td>\n",
              "      <td>0</td>\n",
              "      <td>25</td>\n",
              "      <td>30</td>\n",
              "      <td>0</td>\n",
              "      <td>300</td>\n",
              "    </tr>\n",
              "    <tr>\n",
              "      <th>6385</th>\n",
              "      <td>6386</td>\n",
              "      <td>4045</td>\n",
              "      <td>0</td>\n",
              "      <td>19451</td>\n",
              "      <td>-667</td>\n",
              "      <td>19133.0</td>\n",
              "      <td>3533</td>\n",
              "      <td>18233</td>\n",
              "      <td>-200460</td>\n",
              "      <td>836340</td>\n",
              "      <td>...</td>\n",
              "      <td>0</td>\n",
              "      <td>70</td>\n",
              "      <td>0.0</td>\n",
              "      <td>0</td>\n",
              "      <td>130</td>\n",
              "      <td>0</td>\n",
              "      <td>10</td>\n",
              "      <td>0</td>\n",
              "      <td>0</td>\n",
              "      <td>0</td>\n",
              "    </tr>\n",
              "    <tr>\n",
              "      <th>6386</th>\n",
              "      <td>6387</td>\n",
              "      <td>5230</td>\n",
              "      <td>0</td>\n",
              "      <td>12025</td>\n",
              "      <td>-550</td>\n",
              "      <td>12830.0</td>\n",
              "      <td>1730</td>\n",
              "      <td>11030</td>\n",
              "      <td>-227760</td>\n",
              "      <td>377040</td>\n",
              "      <td>...</td>\n",
              "      <td>0</td>\n",
              "      <td>120</td>\n",
              "      <td>0.0</td>\n",
              "      <td>0</td>\n",
              "      <td>50</td>\n",
              "      <td>0</td>\n",
              "      <td>0</td>\n",
              "      <td>0</td>\n",
              "      <td>0</td>\n",
              "      <td>0</td>\n",
              "    </tr>\n",
              "    <tr>\n",
              "      <th>6387</th>\n",
              "      <td>6388</td>\n",
              "      <td>1306</td>\n",
              "      <td>0</td>\n",
              "      <td>10249</td>\n",
              "      <td>-79</td>\n",
              "      <td>10121.0</td>\n",
              "      <td>2321</td>\n",
              "      <td>9221</td>\n",
              "      <td>-312060</td>\n",
              "      <td>379140</td>\n",
              "      <td>...</td>\n",
              "      <td>500</td>\n",
              "      <td>120</td>\n",
              "      <td>0.0</td>\n",
              "      <td>0</td>\n",
              "      <td>90</td>\n",
              "      <td>0</td>\n",
              "      <td>20</td>\n",
              "      <td>0</td>\n",
              "      <td>0</td>\n",
              "      <td>0</td>\n",
              "    </tr>\n",
              "  </tbody>\n",
              "</table>\n",
              "<p>6388 rows × 74 columns</p>\n",
              "</div>\n",
              "      <button class=\"colab-df-convert\" onclick=\"convertToInteractive('df-e9d5ae2e-71ee-4edb-96f6-2a73fffa6a9f')\"\n",
              "              title=\"Convert this dataframe to an interactive table.\"\n",
              "              style=\"display:none;\">\n",
              "        \n",
              "  <svg xmlns=\"http://www.w3.org/2000/svg\" height=\"24px\"viewBox=\"0 0 24 24\"\n",
              "       width=\"24px\">\n",
              "    <path d=\"M0 0h24v24H0V0z\" fill=\"none\"/>\n",
              "    <path d=\"M18.56 5.44l.94 2.06.94-2.06 2.06-.94-2.06-.94-.94-2.06-.94 2.06-2.06.94zm-11 1L8.5 8.5l.94-2.06 2.06-.94-2.06-.94L8.5 2.5l-.94 2.06-2.06.94zm10 10l.94 2.06.94-2.06 2.06-.94-2.06-.94-.94-2.06-.94 2.06-2.06.94z\"/><path d=\"M17.41 7.96l-1.37-1.37c-.4-.4-.92-.59-1.43-.59-.52 0-1.04.2-1.43.59L10.3 9.45l-7.72 7.72c-.78.78-.78 2.05 0 2.83L4 21.41c.39.39.9.59 1.41.59.51 0 1.02-.2 1.41-.59l7.78-7.78 2.81-2.81c.8-.78.8-2.07 0-2.86zM5.41 20L4 18.59l7.72-7.72 1.47 1.35L5.41 20z\"/>\n",
              "  </svg>\n",
              "      </button>\n",
              "      \n",
              "  <style>\n",
              "    .colab-df-container {\n",
              "      display:flex;\n",
              "      flex-wrap:wrap;\n",
              "      gap: 12px;\n",
              "    }\n",
              "\n",
              "    .colab-df-convert {\n",
              "      background-color: #E8F0FE;\n",
              "      border: none;\n",
              "      border-radius: 50%;\n",
              "      cursor: pointer;\n",
              "      display: none;\n",
              "      fill: #1967D2;\n",
              "      height: 32px;\n",
              "      padding: 0 0 0 0;\n",
              "      width: 32px;\n",
              "    }\n",
              "\n",
              "    .colab-df-convert:hover {\n",
              "      background-color: #E2EBFA;\n",
              "      box-shadow: 0px 1px 2px rgba(60, 64, 67, 0.3), 0px 1px 3px 1px rgba(60, 64, 67, 0.15);\n",
              "      fill: #174EA6;\n",
              "    }\n",
              "\n",
              "    [theme=dark] .colab-df-convert {\n",
              "      background-color: #3B4455;\n",
              "      fill: #D2E3FC;\n",
              "    }\n",
              "\n",
              "    [theme=dark] .colab-df-convert:hover {\n",
              "      background-color: #434B5C;\n",
              "      box-shadow: 0px 1px 3px 1px rgba(0, 0, 0, 0.15);\n",
              "      filter: drop-shadow(0px 1px 2px rgba(0, 0, 0, 0.3));\n",
              "      fill: #FFFFFF;\n",
              "    }\n",
              "  </style>\n",
              "\n",
              "      <script>\n",
              "        const buttonEl =\n",
              "          document.querySelector('#df-e9d5ae2e-71ee-4edb-96f6-2a73fffa6a9f button.colab-df-convert');\n",
              "        buttonEl.style.display =\n",
              "          google.colab.kernel.accessAllowed ? 'block' : 'none';\n",
              "\n",
              "        async function convertToInteractive(key) {\n",
              "          const element = document.querySelector('#df-e9d5ae2e-71ee-4edb-96f6-2a73fffa6a9f');\n",
              "          const dataTable =\n",
              "            await google.colab.kernel.invokeFunction('convertToInteractive',\n",
              "                                                     [key], {});\n",
              "          if (!dataTable) return;\n",
              "\n",
              "          const docLinkHtml = 'Like what you see? Visit the ' +\n",
              "            '<a target=\"_blank\" href=https://colab.research.google.com/notebooks/data_table.ipynb>data table notebook</a>'\n",
              "            + ' to learn more about interactive tables.';\n",
              "          element.innerHTML = '';\n",
              "          dataTable['output_type'] = 'display_data';\n",
              "          await google.colab.output.renderOutput(dataTable, element);\n",
              "          const docLink = document.createElement('div');\n",
              "          docLink.innerHTML = docLinkHtml;\n",
              "          element.appendChild(docLink);\n",
              "        }\n",
              "      </script>\n",
              "    </div>\n",
              "  </div>\n",
              "  "
            ]
          },
          "metadata": {},
          "execution_count": 6
        }
      ]
    },
    {
      "cell_type": "code",
      "source": [
        "# Cases DataFrame의 column명들만 추출해서 확인\n",
        "df_cases.columns"
      ],
      "metadata": {
        "id": "IJiGFn7k9eGB",
        "colab": {
          "base_uri": "https://localhost:8080/"
        },
        "outputId": "47719063-4934-4516-da8f-133b56c5114d"
      },
      "execution_count": 7,
      "outputs": [
        {
          "output_type": "execute_result",
          "data": {
            "text/plain": [
              "Index(['caseid', 'subjectid', 'casestart', 'caseend', 'anestart', 'aneend',\n",
              "       'opstart', 'opend', 'adm', 'dis', 'icu_days', 'death_inhosp', 'age',\n",
              "       'sex', 'height', 'weight', 'bmi', 'asa', 'emop', 'department', 'optype',\n",
              "       'dx', 'opname', 'approach', 'position', 'ane_type', 'preop_htn',\n",
              "       'preop_dm', 'preop_ecg', 'preop_pft', 'preop_hb', 'preop_plt',\n",
              "       'preop_pt', 'preop_aptt', 'preop_na', 'preop_k', 'preop_gluc',\n",
              "       'preop_alb', 'preop_ast', 'preop_alt', 'preop_bun', 'preop_cr',\n",
              "       'preop_ph', 'preop_hco3', 'preop_be', 'preop_pao2', 'preop_paco2',\n",
              "       'preop_sao2', 'cormack', 'airway', 'tubesize', 'dltubesize', 'lmasize',\n",
              "       'iv1', 'iv2', 'aline1', 'aline2', 'cline1', 'cline2', 'intraop_ebl',\n",
              "       'intraop_uo', 'intraop_rbc', 'intraop_ffp', 'intraop_crystalloid',\n",
              "       'intraop_colloid', 'intraop_ppf', 'intraop_mdz', 'intraop_ftn',\n",
              "       'intraop_rocu', 'intraop_vecu', 'intraop_eph', 'intraop_phe',\n",
              "       'intraop_epi', 'intraop_ca'],\n",
              "      dtype='object')"
            ]
          },
          "metadata": {},
          "execution_count": 7
        }
      ]
    },
    {
      "cell_type": "code",
      "metadata": {
        "id": "0b_TyfelWg6e"
      },
      "source": [
        "# female은 1으로, male 은 0으로 치환\n",
        "df_cases['sex'] = (df_cases['sex'] == 'F').astype(int)  "
      ],
      "execution_count": 8,
      "outputs": []
    },
    {
      "cell_type": "markdown",
      "metadata": {
        "id": "xzuBetNgW5xv"
      },
      "source": [
        "##Case ID 선택 (inclusion, exclusion criteria)\n",
        "- 2시간 이상\n",
        "- 전신 마취\n",
        "- 18세 이상\n",
        "- PPF20_VOL, RFTN20_VOL, PPF20_CE, RFTN20_CE, BIS 트랙이 존재\n",
        "- 몸무게 35 kg 이상"
      ]
    },
    {
      "cell_type": "code",
      "metadata": {
        "id": "2qsz5TKVf6Nb"
      },
      "source": [
        "caseids = list(\n",
        "  set(df_trks.loc[df_trks['tname'] == 'Orchestra/PPF20_VOL', 'caseid']) & ## loc를 사용하는게 아래보다 빠름.\n",
        "  set(df_trks[df_trks['tname'] == 'Orchestra/RFTN20_VOL']['caseid']) &\n",
        "  set(df_trks[df_trks['tname'] == 'Orchestra/PPF20_CE']['caseid']) &\n",
        "  set(df_trks[df_trks['tname'] == 'Orchestra/RFTN20_CE']['caseid']) &\n",
        "  set(df_trks[df_trks['tname'] == 'BIS/BIS']['caseid']) & \n",
        "  set(df_cases[df_cases['age'] > 18]['caseid']) & \n",
        "  set(df_cases[df_cases['weight'] > 35]['caseid']) &\n",
        "  set(df_cases[df_cases['caseend'] > 7200]['caseid']) &   ## 2시간 이상의 수술.\n",
        "  set(df_cases[df_cases['ane_type'] == 'General']['caseid'])  ## 전신 마취\n",
        "  )\n",
        "np.random.shuffle(caseids)"
      ],
      "execution_count": 9,
      "outputs": []
    },
    {
      "cell_type": "code",
      "source": [
        "print(f'Included cases numeber: {len(caseids)}')"
      ],
      "metadata": {
        "id": "mU7I7ybp-KDm",
        "colab": {
          "base_uri": "https://localhost:8080/"
        },
        "outputId": "a445612e-bbc1-42b8-9c6d-b74a95c764c4"
      },
      "execution_count": 10,
      "outputs": [
        {
          "output_type": "stream",
          "name": "stdout",
          "text": [
            "Included cases numeber: 2225\n"
          ]
        }
      ]
    },
    {
      "cell_type": "markdown",
      "metadata": {
        "id": "aBusNmsKpc2Z"
      },
      "source": [
        "# 데이터 전처리\n"
      ]
    },
    {
      "cell_type": "markdown",
      "source": [
        "## 하나의 Caseid로 먼저 실습 "
      ],
      "metadata": {
        "id": "Ibxg8nPY0sgE"
      }
    },
    {
      "cell_type": "code",
      "source": [
        "caseid = 5180 #5180"
      ],
      "metadata": {
        "id": "gBNmL8rs0_BZ"
      },
      "execution_count": 11,
      "outputs": []
    },
    {
      "cell_type": "code",
      "source": [
        "# 20초 간격으로 Propofol 및 BIS 데이터 추출\n",
        "tracknames = ['Orchestra/PPF20_VOL', 'BIS/BIS']\n",
        "vals = vitaldb.load_case(caseid, tracknames, 20)\n",
        "\n",
        "print(vals.shape) # Matrix shape 확인\n",
        "print()\n",
        "print(vals[:10]) # 데이터 일부 확인"
      ],
      "metadata": {
        "id": "sPOkPyQV067Q",
        "colab": {
          "base_uri": "https://localhost:8080/"
        },
        "outputId": "7fcc239b-b2a0-4c1d-d65d-9e8dfea07b18"
      },
      "execution_count": 12,
      "outputs": [
        {
          "output_type": "stream",
          "name": "stdout",
          "text": [
            "(888, 2)\n",
            "\n",
            "[[ 0.          0.        ]\n",
            " [ 0.          0.        ]\n",
            " [ 0.          0.        ]\n",
            " [ 2.38199997  0.        ]\n",
            " [ 3.97900009  0.        ]\n",
            " [ 3.97900009 75.40000153]\n",
            " [ 3.97900009 60.90000153]\n",
            " [ 3.97900009 43.59999847]\n",
            " [ 4.0710001  44.20000076]\n",
            " [ 4.3039999  44.5       ]]\n"
          ]
        }
      ]
    },
    {
      "cell_type": "code",
      "source": [
        "# 시각화\n",
        "import matplotlib.pyplot as plt\n",
        "\n",
        "plt.figure(figsize=(20,5))\n",
        "for idx, trk in enumerate(tracknames):\n",
        "  plt.plot(vals[:,idx],label=trk)\n",
        "plt.legend(loc='center right')\n",
        "plt.show()"
      ],
      "metadata": {
        "colab": {
          "base_uri": "https://localhost:8080/",
          "height": 317
        },
        "id": "LMKtjwIiG6my",
        "outputId": "9489b5e3-6582-40d2-a189-2a4cfa3d42b0"
      },
      "execution_count": 13,
      "outputs": [
        {
          "output_type": "display_data",
          "data": {
            "text/plain": [
              "<Figure size 1440x360 with 1 Axes>"
            ],
            "image/png": "[encoded data removed]"
          },
          "metadata": {
            "needs_background": "light"
          }
        }
      ]
    },
    {
      "cell_type": "code",
      "source": [
        "# 결측치 확인\n",
        "print(np.isnan(vals).sum(axis=0)) # track\n",
        "print()\n",
        "np.where(np.isnan(vals).sum(axis=1) > 0)[0] #time"
      ],
      "metadata": {
        "id": "JwQhjYp-4RSz",
        "colab": {
          "base_uri": "https://localhost:8080/"
        },
        "outputId": "27c4f9dd-abcd-4928-8258-345f07b95593"
      },
      "execution_count": 14,
      "outputs": [
        {
          "output_type": "stream",
          "name": "stdout",
          "text": [
            "[30  0]\n",
            "\n"
          ]
        },
        {
          "output_type": "execute_result",
          "data": {
            "text/plain": [
              "array([ 12,  13,  14,  15, 862, 863, 864, 865, 866, 867, 868, 869, 870,\n",
              "       871, 872, 873, 874, 875, 876, 877, 878, 879, 880, 881, 882, 883,\n",
              "       884, 885, 886, 887])"
            ]
          },
          "metadata": {},
          "execution_count": 14
        }
      ]
    },
    {
      "cell_type": "code",
      "source": [
        "# track - time별 결측치 확인\n",
        "for idx, trk in enumerate(tracknames):\n",
        "  print(f' Missing values of {trk} track at : {np.where(np.isnan(vals[:, idx]))[0]}')\n",
        "  print()"
      ],
      "metadata": {
        "id": "QLhG3kzn6oDV",
        "colab": {
          "base_uri": "https://localhost:8080/"
        },
        "outputId": "716d7fe9-f00f-4e04-cece-b31260673684"
      },
      "execution_count": 15,
      "outputs": [
        {
          "output_type": "stream",
          "name": "stdout",
          "text": [
            " Missing values of Orchestra/PPF20_VOL track at : [ 12  13  14  15 862 863 864 865 866 867 868 869 870 871 872 873 874 875\n",
            " 876 877 878 879 880 881 882 883 884 885 886 887]\n",
            "\n",
            " Missing values of BIS/BIS track at : []\n",
            "\n"
          ]
        }
      ]
    },
    {
      "cell_type": "code",
      "source": [
        "#  결측치 처리 방법1 - 전후 값으로 치환\n",
        "vals_ = vals[10:20]\n",
        "print(\"#\"*4, \"Original\", \"#\"*4)\n",
        "print(vals_)\n",
        "print()\n",
        "print(\"#\"*4, \"Forward filling\", \"#\"*4)\n",
        "print(pd.DataFrame(vals_).fillna(method='ffill').values)\n",
        "print()\n",
        "print(\"#\"*4, \"Backward filling\", \"#\"*4)\n",
        "print(pd.DataFrame(vals_).fillna(method='bfill').values)\n",
        "print()\n",
        "#  결측치 처리 방법2 - 전후 값으로 치환\n",
        "print(\"#\"*4, \"Interpolation\", \"#\"*4) \n",
        "print(pd.DataFrame(vals_).interpolate().values)\n"
      ],
      "metadata": {
        "id": "BS-bF0-V7eTX",
        "colab": {
          "base_uri": "https://localhost:8080/"
        },
        "outputId": "5ea4dc56-5a1c-4ccf-a293-e94dadbf60b5"
      },
      "execution_count": 16,
      "outputs": [
        {
          "output_type": "stream",
          "name": "stdout",
          "text": [
            "#### Original ####\n",
            "[[ 4.52199984 42.40000153]\n",
            " [ 4.71899986 46.90000153]\n",
            " [        nan 44.09999847]\n",
            " [        nan 44.5       ]\n",
            " [        nan 41.29999924]\n",
            " [        nan 39.70000076]\n",
            " [ 0.         50.5       ]\n",
            " [ 0.         43.90000153]\n",
            " [ 0.         51.70000076]\n",
            " [ 1.93900001 50.29999924]]\n",
            "\n",
            "#### Forward filling ####\n",
            "[[ 4.52199984 42.40000153]\n",
            " [ 4.71899986 46.90000153]\n",
            " [ 4.71899986 44.09999847]\n",
            " [ 4.71899986 44.5       ]\n",
            " [ 4.71899986 41.29999924]\n",
            " [ 4.71899986 39.70000076]\n",
            " [ 0.         50.5       ]\n",
            " [ 0.         43.90000153]\n",
            " [ 0.         51.70000076]\n",
            " [ 1.93900001 50.29999924]]\n",
            "\n",
            "#### Backward filling ####\n",
            "[[ 4.52199984 42.40000153]\n",
            " [ 4.71899986 46.90000153]\n",
            " [ 0.         44.09999847]\n",
            " [ 0.         44.5       ]\n",
            " [ 0.         41.29999924]\n",
            " [ 0.         39.70000076]\n",
            " [ 0.         50.5       ]\n",
            " [ 0.         43.90000153]\n",
            " [ 0.         51.70000076]\n",
            " [ 1.93900001 50.29999924]]\n",
            "\n",
            "#### Interpolation ####\n",
            "[[ 4.52199984 42.40000153]\n",
            " [ 4.71899986 46.90000153]\n",
            " [ 3.77519989 44.09999847]\n",
            " [ 2.83139992 44.5       ]\n",
            " [ 1.88759995 41.29999924]\n",
            " [ 0.94379997 39.70000076]\n",
            " [ 0.         50.5       ]\n",
            " [ 0.         43.90000153]\n",
            " [ 0.         51.70000076]\n",
            " [ 1.93900001 50.29999924]]\n"
          ]
        }
      ]
    },
    {
      "cell_type": "code",
      "source": [
        "#  결측치 처리 방법3 - 특정값으로 치환\n",
        "print(np.nan_to_num(vals_, 0))"
      ],
      "metadata": {
        "id": "55J1gSay_WX0",
        "colab": {
          "base_uri": "https://localhost:8080/"
        },
        "outputId": "3295ec26-02e7-4edf-ecf6-4197b1cbc5fe"
      },
      "execution_count": 17,
      "outputs": [
        {
          "output_type": "stream",
          "name": "stdout",
          "text": [
            "[[ 4.52199984 42.40000153]\n",
            " [ 4.71899986 46.90000153]\n",
            " [ 0.         44.09999847]\n",
            " [ 0.         44.5       ]\n",
            " [ 0.         41.29999924]\n",
            " [ 0.         39.70000076]\n",
            " [ 0.         50.5       ]\n",
            " [ 0.         43.90000153]\n",
            " [ 0.         51.70000076]\n",
            " [ 1.93900001 50.29999924]]\n"
          ]
        }
      ]
    },
    {
      "cell_type": "markdown",
      "source": [
        "## 전체 실행 (TODO)\n",
        "- dataset을 담을 변수를 설정\n",
        "- propofol(ppf20), remifentanil(rftn20), bis를 로딩한다\n",
        "- 기록된 데이터가 짧거나, drug infusion이 실제 없었던 케이스, bis값이 적절하지 않은 케이스는 거르기\n",
        "- 결측값 및 음수 처리"
      ],
      "metadata": {
        "id": "euUUMCTRzuhm"
      }
    },
    {
      "cell_type": "code",
      "metadata": {
        "id": "h6CHJpySrDxG",
        "colab": {
          "base_uri": "https://localhost:8080/"
        },
        "outputId": "384972b5-1414-41e7-ca20-ed52c684c776"
      },
      "source": [
        "######### TODO 1 #########\n",
        "\n",
        "# vital 파일로부터 dataset 을 만듬\n",
        "x_ppf_dose = []  # 각 레코드의 프로포폴 주입량\n",
        "x_rft_dose = []  # 각 레코드의 레미펜타닐 주입량\n",
        "x_aswh = []  # 각 레코드의 나이, 성별, 키, 몸무게\n",
        "x_caseid = []  # 각 레코드의 caseid\n",
        "y = []  # 각 레코드의 출력값 (bis)\n",
        "y_old = []  # 고전적 모델의 예측값\n",
        "\n",
        "LSTM_TIMEPOINTS = 180\n",
        "MAX_CASES = 50  # 본 예제에서 사용할 최대 case 수\n",
        "\n",
        "# 데이터 로딩했을 때 컬럼 순서\n",
        "PPF_DOSE = 0\n",
        "RFT_DOSE = 1\n",
        "PPF_CE = 2\n",
        "RFT_CE = 3\n",
        "BIS = 4\n",
        "\n",
        "icase = 0  # 현재 로딩 중인 케이스 번호\n",
        "ncase = min(MAX_CASES, len(caseids))\n",
        "for caseid in caseids:  # 본 연구에 사용할 각 case에 대하여\n",
        "    print('loading {} ({}/{})'.format(caseid, icase, ncase), end='...', flush=True)\n",
        "\n",
        "    ######### TODO 1 : Step 1 #########\n",
        "    # 10초 간격으로, propofol volume, remifentanil volume, propofol CE, remifentanil CE, BIS 데이터 추출\n",
        "    vals = vitaldb.load_case(caseid, ['Orchestra/PPF20_VOL', 'Orchestra/RFTN20_VOL', 'Orchestra/PPF20_CE', 'Orchestra/RFTN20_CE', 'BIS/BIS'], 10)\n",
        "\n",
        "    ######### TODO 1 : Step 2 #########\n",
        "    # 결측값은 측정된 마지막 값으로 대체\n",
        "    vals = pd.DataFrame(vals).fillna(method='ffill').values\n",
        "\n",
        "    ######### TODO 1 : Step 3 #########\n",
        "    # 마지막 남은 맨 앞 쪽 결측값은 0으로 대체\n",
        "    vals = np.nan_to_num(vals, 0)\n",
        "\n",
        "    # drug 주입을 하지 않은 case 혹은 bis를 사용하지 않은 case는 제외\n",
        "    if (np.max(vals, axis=0) <= 1).any():\n",
        "        print('no drug infusion or bis')\n",
        "        continue\n",
        "\n",
        "    # drug infusion 시작 시간을 구하고 그 이전을 삭제\n",
        "    first_ppf_idx = np.where(vals[:, PPF_DOSE] > 1)[0][0]\n",
        "    first_rft_idx = np.where(vals[:, RFT_DOSE] > 1)[0][0]\n",
        "    first_drug_idx = min(first_ppf_idx, first_rft_idx)\n",
        "    vals = vals[first_drug_idx:, :]\n",
        "\n",
        "    # volume 을 rate로 변경\n",
        "    vals[1:, PPF_DOSE] -= vals[:-1, PPF_DOSE]\n",
        "    vals[1:, RFT_DOSE] -= vals[:-1, RFT_DOSE]\n",
        "    vals[0, PPF_DOSE] = 0\n",
        "    vals[0, RFT_DOSE] = 0\n",
        "\n",
        "    ######### TODO 1 : Step 4 #########\n",
        "    # 음수 값을 0으로 대체\n",
        "    vals[vals < 0] = 0\n",
        "\n",
        "    # bis 값의 첫 값이 80 이하이거나 마지막 값이 70 이하인 case는 사용하지 않음\n",
        "    valid_bis_idx = np.where(vals[:, BIS] > 0)[0]\n",
        "    first_bis_idx = valid_bis_idx[0]\n",
        "    last_bis_idx = valid_bis_idx[-1]\n",
        "    if vals[first_bis_idx, BIS] < 80:\n",
        "        print('first bis < 80')\n",
        "        continue\n",
        "    if vals[last_bis_idx, BIS] < 70:\n",
        "        print('last bis < 70')\n",
        "        continue\n",
        "\n",
        "    # infusion 시작 전 LSTM_TIMEPOINTS 동안의 dose와 bis를 모두 0으로 세팅\n",
        "    vals = np.vstack((np.zeros((LSTM_TIMEPOINTS - 1, vals.shape[1])), vals))\n",
        "\n",
        "    ######### TODO 1 : Step 5 #########\n",
        "    # 현 case의 나이, 성별, 키, 몸무게를 가져옴\n",
        "    aswh = df_cases.loc[df_cases['caseid'] == caseid, ['age','sex','weight','height']]\n",
        "    aswh = aswh.values.astype(float).flatten()\n",
        "\n",
        "    # case 시작 부터 종료까지 dataset 에 넣음\n",
        "    for irow in range(1, vals.shape[0] - LSTM_TIMEPOINTS - 1):\n",
        "        bis = vals[irow + LSTM_TIMEPOINTS, BIS]\n",
        "        if bis == 0:\n",
        "            continue\n",
        "\n",
        "        # 데이터셋에 입력값을 넣음\n",
        "        x_ppf_dose.append(vals[irow:irow + LSTM_TIMEPOINTS, PPF_DOSE])\n",
        "        x_rft_dose.append(vals[irow:irow + LSTM_TIMEPOINTS, RFT_DOSE])\n",
        "\n",
        "        x_aswh.append(aswh)\n",
        "        x_caseid.append(caseid)\n",
        "        y.append(bis / 100)\n",
        "\n",
        "        ppf_ce = vals[irow + LSTM_TIMEPOINTS, PPF_CE]\n",
        "        rft_ce = vals[irow + LSTM_TIMEPOINTS, RFT_CE]\n",
        "         \n",
        "        ug = (ppf_ce / 4.47 + rft_ce / 19.3)**1.43\n",
        "        y_old.append(0.98 - 0.98 * (ug / (1 + ug)))\n",
        "\n",
        "\n",
        "    # 사용할 case\n",
        "    print('done')\n",
        "    icase += 1\n",
        "    if icase >= ncase:\n",
        "        break\n"
      ],
      "execution_count": 20,
      "outputs": [
        {
          "output_type": "stream",
          "name": "stdout",
          "text": [
            "loading 3244 (0/10)...done\n",
            "loading 1457 (1/10)...done\n",
            "loading 1824 (2/10)...first bis < 80\n",
            "loading 4356 (2/10)...done\n",
            "loading 4858 (3/10)...first bis < 80\n",
            "loading 3330 (3/10)...done\n",
            "loading 5520 (4/10)...last bis < 70\n",
            "loading 3423 (4/10)...done\n",
            "loading 4587 (5/10)...done\n",
            "loading 3781 (6/10)...done\n",
            "loading 378 (7/10)...done\n",
            "loading 3356 (8/10)...done\n",
            "loading 1474 (9/10)...first bis < 80\n",
            "loading 5999 (9/10)...done\n"
          ]
        }
      ]
    },
    {
      "cell_type": "markdown",
      "metadata": {
        "id": "NwwLDouezDLc"
      },
      "source": [
        "## 데이터셋 포맷 및 차원 변환"
      ]
    },
    {
      "cell_type": "code",
      "metadata": {
        "id": "bHa2fte0zGEv"
      },
      "source": [
        "# 입력 데이터셋을 numpy array로 변경\n",
        "x_ppf_dose = np.array(x_ppf_dose)[..., None]  # LSTM 에 넣기 위해서는 3차원이어야 한다. 마지막 차원을 추가\n",
        "x_rft_dose = np.array(x_rft_dose)[..., None]\n",
        "x_aswh = np.array(x_aswh)\n",
        "y = np.array(y)\n",
        "y_old = np.array(y_old)\n",
        "x_caseid = np.array(x_caseid)\n",
        "\n",
        "# 최종적으로 로딩 된 caseid\n",
        "caseids = np.unique(x_caseid)\n",
        "\n",
        "# normalize data\n",
        "x_aswh = (x_aswh - np.mean(x_aswh, axis=0)) / np.std(x_aswh, axis=0)\n"
      ],
      "execution_count": 21,
      "outputs": []
    },
    {
      "cell_type": "markdown",
      "metadata": {
        "id": "VpMowosc0Bzf"
      },
      "source": [
        "## 데이터를 학습(train)과 테스트(test)로 나누기"
      ]
    },
    {
      "cell_type": "code",
      "metadata": {
        "id": "AjdvjsJ10JAe",
        "colab": {
          "base_uri": "https://localhost:8080/"
        },
        "outputId": "924f7931-08f5-45f7-97e7-8f9862d071fd"
      },
      "source": [
        "# train, test case로 나눔\n",
        "ntest = int(ncase * 0.1)\n",
        "ntrain = ncase - ntest\n",
        "train_caseids = caseids[:ntrain]\n",
        "test_caseids = caseids[ntrain:ncase]\n",
        "\n",
        "# train set과 test set 으로 나눔\n",
        "train_mask = np.array([caseid in train_caseids for caseid in x_caseid])\n",
        "test_mask = np.array([caseid in test_caseids for caseid in x_caseid])\n",
        "x_train = [x_ppf_dose[train_mask], x_rft_dose[train_mask], x_aswh[train_mask]]\n",
        "y_train = y[train_mask]\n",
        "x_test = [x_ppf_dose[test_mask], x_rft_dose[test_mask], x_aswh[test_mask]]\n",
        "y_test = y[test_mask]\n",
        "y_old = y_old[test_mask]\n",
        "\n",
        "print('train: {} cases {} samples, testing: {} cases {} samples'.format(len(train_caseids), np.sum(train_mask), len(test_caseids), np.sum(test_mask)))"
      ],
      "execution_count": 22,
      "outputs": [
        {
          "output_type": "stream",
          "name": "stdout",
          "text": [
            "train: 9 cases 12675 samples, testing: 1 cases 1414 samples\n"
          ]
        }
      ]
    },
    {
      "cell_type": "markdown",
      "metadata": {
        "id": "iPi6FIbB0NkF"
      },
      "source": [
        "# Model building\n"
      ]
    },
    {
      "cell_type": "code",
      "source": [
        "from keras.models import Model, load_model\n",
        "from keras.layers import Dense, Dropout, LSTM, Input, concatenate\n",
        "from keras.callbacks import EarlyStopping\n",
        "import tensorflow as tf\n",
        "\n",
        "# 모델 설계\n",
        "\n",
        "def build_model(LSTM_NODES, FNN_NODES, DROP_RATE):\n",
        "    \n",
        "    input_cov = Input(batch_shape=(None, 4))\n",
        "    input_ppf = Input(batch_shape=(None, LSTM_TIMEPOINTS, 1))\n",
        "    input_rft = Input(batch_shape=(None, LSTM_TIMEPOINTS, 1))\n",
        "    output_ppf = LSTM(LSTM_NODES, input_shape=(LSTM_TIMEPOINTS, 1), activation='tanh')(input_ppf)\n",
        "    output_rft = LSTM(LSTM_NODES, input_shape=(LSTM_TIMEPOINTS, 1), activation='tanh')(input_rft)\n",
        "    output = concatenate([output_ppf, output_rft, input_cov])\n",
        "    output = Dense(FNN_NODES)(output)\n",
        "    output = Dropout(DROP_RATE)(output)\n",
        "    output = Dense(1, activation='sigmoid')(output)\n",
        "    model = Model(inputs=[input_ppf, input_rft, input_cov], outputs=[output])\n",
        "    \n",
        "    return model\n"
      ],
      "metadata": {
        "id": "nstrZVa3WIez"
      },
      "execution_count": 23,
      "outputs": []
    },
    {
      "cell_type": "code",
      "source": [
        "# 모델 생성 및 구조 확인\n",
        "model = build_model(32, 32, 0.5)\n",
        "model.summary()"
      ],
      "metadata": {
        "id": "2QDgyGNwXBY3",
        "colab": {
          "base_uri": "https://localhost:8080/"
        },
        "outputId": "d7c5b289-b61d-48bc-8ce8-d39167ad91c0"
      },
      "execution_count": 24,
      "outputs": [
        {
          "output_type": "stream",
          "name": "stdout",
          "text": [
            "Model: \"model\"\n",
            "__________________________________________________________________________________________________\n",
            " Layer (type)                   Output Shape         Param #     Connected to                     \n",
            "==================================================================================================\n",
            " input_2 (InputLayer)           [(None, 180, 1)]     0           []                               \n",
            "                                                                                                  \n",
            " input_3 (InputLayer)           [(None, 180, 1)]     0           []                               \n",
            "                                                                                                  \n",
            " lstm (LSTM)                    (None, 32)           4352        ['input_2[0][0]']                \n",
            "                                                                                                  \n",
            " lstm_1 (LSTM)                  (None, 32)           4352        ['input_3[0][0]']                \n",
            "                                                                                                  \n",
            " input_1 (InputLayer)           [(None, 4)]          0           []                               \n",
            "                                                                                                  \n",
            " concatenate (Concatenate)      (None, 68)           0           ['lstm[0][0]',                   \n",
            "                                                                  'lstm_1[0][0]',                 \n",
            "                                                                  'input_1[0][0]']                \n",
            "                                                                                                  \n",
            " dense (Dense)                  (None, 32)           2208        ['concatenate[0][0]']            \n",
            "                                                                                                  \n",
            " dropout (Dropout)              (None, 32)           0           ['dense[0][0]']                  \n",
            "                                                                                                  \n",
            " dense_1 (Dense)                (None, 1)            33          ['dropout[0][0]']                \n",
            "                                                                                                  \n",
            "==================================================================================================\n",
            "Total params: 10,945\n",
            "Trainable params: 10,945\n",
            "Non-trainable params: 0\n",
            "__________________________________________________________________________________________________\n"
          ]
        }
      ]
    },
    {
      "cell_type": "code",
      "metadata": {
        "id": "uytYU2Fu0rPi",
        "colab": {
          "base_uri": "https://localhost:8080/"
        },
        "outputId": "7fa0815b-9166-4dc1-9d21-30c0ddabebc2"
      },
      "source": [
        "mse = tf.keras.losses.MeanSquaredError()\n",
        "mape = tf.keras.losses.MeanAbsolutePercentageError()\n",
        "\n",
        "model.compile(loss=mse, optimizer='sgd', metrics=[mape])\n",
        "hist = model.fit(x_train, y_train,\n",
        "                 batch_size=64,\n",
        "                 validation_split=0.2, \n",
        "                 epochs=1, \n",
        "                 callbacks=[EarlyStopping(monitor='val_loss', patience=3, verbose=0, mode='auto')])"
      ],
      "execution_count": 27,
      "outputs": [
        {
          "output_type": "stream",
          "name": "stdout",
          "text": [
            "159/159 [==============================] - 8s 21ms/step - loss: 0.0203 - mean_absolute_percentage_error: 25.4505 - val_loss: 0.0081 - val_mean_absolute_percentage_error: 16.7599\n"
          ]
        }
      ]
    },
    {
      "cell_type": "markdown",
      "metadata": {
        "id": "SeVpuglt1W0k"
      },
      "source": [
        "# 결과 출력"
      ]
    },
    {
      "cell_type": "code",
      "metadata": {
        "id": "GNA1cUY71cxs",
        "colab": {
          "base_uri": "https://localhost:8080/",
          "height": 389
        },
        "outputId": "9b296135-f6e6-4c89-9c80-0d2863a96054"
      },
      "source": [
        "# 예측\n",
        "y_pred = model.predict(x_test).flatten()\n",
        "print(f\"Test MAPE (LSTM): {mape(y_test, y_pred):.1f}%\")\n",
        "print(f\"Test MAPE (Short): {mape(y_old, y_pred):.1f}%\")\n",
        "print()\n",
        "\n",
        "# 각 case에서 예측 결과를 그림으로 확인\n",
        "import matplotlib.pyplot as plt\n",
        "for caseid in test_caseids:\n",
        "    case_mask = (x_caseid[test_mask] == caseid)\n",
        "    case_len = np.sum(case_mask)\n",
        "    if case_len == 0:\n",
        "        continue\n",
        "\n",
        "    print('CaseID {}, LSTM MAPE={}, Short MAPE={}'.format(caseid, \n",
        "      mape(y_test[case_mask], y_pred[case_mask]), \n",
        "      mape(y_test[case_mask], y_old[case_mask])\n",
        "      ))\n",
        "\n",
        "    t = np.arange(0, case_len)\n",
        "    plt.figure(figsize=(20, 5))\n",
        "    plt.plot(t, y_test[case_mask], label='BIS')  # 측정 결과\n",
        "    plt.plot(t, y_pred[case_mask], label='LSTM')  # LSTM model\n",
        "    plt.plot(t, y_old[case_mask], label='Short')  # Short model\n",
        "    plt.legend()\n",
        "    plt.xlim([0, case_len])\n",
        "    plt.ylim([0, 1])\n",
        "    plt.show()"
      ],
      "execution_count": 28,
      "outputs": [
        {
          "output_type": "stream",
          "name": "stdout",
          "text": [
            "Test MAPE (LSTM): 23.2%\n",
            "Test MAPE (Short): 11.2%\n",
            "\n",
            "CaseID 5999, LSTM MAPE=23.199962615966797, Short MAPE=28.437744140625\n"
          ]
        },
        {
          "output_type": "display_data",
          "data": {
            "text/plain": [
              "<Figure size 1440x360 with 1 Axes>"
            ],
            "image/png": "[encoded data removed]"
          },
          "metadata": {
            "needs_background": "light"
          }
        }
      ]
    },
    {
      "cell_type": "markdown",
      "source": [
        "# 모델 학습 및 추론 (TODO)"
      ],
      "metadata": {
        "id": "zsjvmOFNcJ3r"
      }
    },
    {
      "cell_type": "code",
      "source": [
        "######### TODO 2 #########\n",
        "# 모델 설계 및 학습\n",
        "\n",
        "######### TODO 2 : Step 1 #########\n",
        "# LSTM의 node 수 8, FNN의 node 수 16, dropout rate는 0.2인 모델을 만들어주세요.\n",
        "model = build_model(8, 16, 0.2)\n",
        "\n",
        "######### TODO 2 : Step 2 #########\n",
        "# 손실함수는 mean absolute error, 옵티마이저는 Adam, 평가방법은 mean absolute percentage error로 모델을 컴파일 해주세요.\n",
        "mae = tf.keras.losses.MeanAbsoluteError()\n",
        "mape = tf.keras.losses.MeanAbsolutePercentageError()\n",
        "model.compile(loss=mae, optimizer='adam', metrics=[mape])\n",
        "\n",
        "######### TODO 2 : Step 3 #########\n",
        "# 모델 검증을 위해 10%로 split해서 미니배치 크기는 256으로 모델을 epoch은 10회로 학습해주세요.\n",
        "hist = model.fit(x_train, y_train,\n",
        "                 validation_split=0.1,\n",
        "                 epochs=10,\n",
        "                 batch_size=256)\n"
      ],
      "metadata": {
        "id": "oMruV58jYDh-",
        "colab": {
          "base_uri": "https://localhost:8080/"
        },
        "outputId": "ce5a346e-0bd3-4683-96f0-ee428a380d81"
      },
      "execution_count": 31,
      "outputs": [
        {
          "output_type": "stream",
          "name": "stdout",
          "text": [
            "Epoch 1/10\n",
            "45/45 [==============================] - 7s 77ms/step - loss: 0.0998 - mean_absolute_percentage_error: 22.4283 - val_loss: 0.1615 - val_mean_absolute_percentage_error: 48.6738\n",
            "Epoch 2/10\n",
            "45/45 [==============================] - 1s 19ms/step - loss: 0.0869 - mean_absolute_percentage_error: 19.2122 - val_loss: 0.1290 - val_mean_absolute_percentage_error: 38.8273\n",
            "Epoch 3/10\n",
            "45/45 [==============================] - 1s 17ms/step - loss: 0.0821 - mean_absolute_percentage_error: 18.0686 - val_loss: 0.1253 - val_mean_absolute_percentage_error: 37.7100\n",
            "Epoch 4/10\n",
            "45/45 [==============================] - 1s 16ms/step - loss: 0.0782 - mean_absolute_percentage_error: 17.2211 - val_loss: 0.1425 - val_mean_absolute_percentage_error: 42.9795\n",
            "Epoch 5/10\n",
            "45/45 [==============================] - 1s 16ms/step - loss: 0.0736 - mean_absolute_percentage_error: 16.2937 - val_loss: 0.1475 - val_mean_absolute_percentage_error: 44.5111\n",
            "Epoch 6/10\n",
            "45/45 [==============================] - 1s 16ms/step - loss: 0.0697 - mean_absolute_percentage_error: 15.6679 - val_loss: 0.1598 - val_mean_absolute_percentage_error: 48.1518\n",
            "Epoch 7/10\n",
            "45/45 [==============================] - 1s 16ms/step - loss: 0.0661 - mean_absolute_percentage_error: 15.0672 - val_loss: 0.1685 - val_mean_absolute_percentage_error: 50.6990\n",
            "Epoch 8/10\n",
            "45/45 [==============================] - 1s 16ms/step - loss: 0.0645 - mean_absolute_percentage_error: 14.7482 - val_loss: 0.1725 - val_mean_absolute_percentage_error: 51.9138\n",
            "Epoch 9/10\n",
            "45/45 [==============================] - 1s 24ms/step - loss: 0.0628 - mean_absolute_percentage_error: 14.3714 - val_loss: 0.1484 - val_mean_absolute_percentage_error: 44.9531\n",
            "Epoch 10/10\n",
            "45/45 [==============================] - 1s 17ms/step - loss: 0.0628 - mean_absolute_percentage_error: 14.3441 - val_loss: 0.1506 - val_mean_absolute_percentage_error: 45.4931\n"
          ]
        }
      ]
    },
    {
      "cell_type": "code",
      "source": [
        "# 예측\n",
        "y_pred = model.predict(x_test).flatten()\n",
        "print(f\"Test MAPE (LSTM): {mape(y_test, y_pred):.1f}%\")\n",
        "print(f\"Test MAPE (Short): {mape(y_old, y_pred):.1f}%\")\n",
        "print()\n",
        "\n",
        "# 각 case에서 예측 결과를 그림으로 확인\n",
        "import matplotlib.pyplot as plt\n",
        "for caseid in test_caseids:\n",
        "    case_mask = (x_caseid[test_mask] == caseid)\n",
        "    case_len = np.sum(case_mask)\n",
        "    if case_len == 0:\n",
        "        continue\n",
        "\n",
        "    print('CaseID {}, LSTM MAPE={}, Short MAPE={}'.format(caseid, \n",
        "      mape(y_test[case_mask], y_pred[case_mask]), \n",
        "      mape(y_test[case_mask], y_old[case_mask])\n",
        "      ))\n",
        "\n",
        "    t = np.arange(0, case_len)\n",
        "    plt.figure(figsize=(20, 5))\n",
        "    plt.plot(t, y_test[case_mask], label='BIS')  # 측정 결과\n",
        "    plt.plot(t, y_pred[case_mask], label='LSTM')  # LSTM model\n",
        "    plt.plot(t, y_old[case_mask], label='Short')  # Short model\n",
        "    plt.legend()\n",
        "    plt.xlim([0, case_len])\n",
        "    plt.ylim([0, 1])\n",
        "    plt.show()"
      ],
      "metadata": {
        "id": "B1wIesXEI3oa",
        "colab": {
          "base_uri": "https://localhost:8080/",
          "height": 389
        },
        "outputId": "05e8d869-7116-4289-d972-2202669e191e"
      },
      "execution_count": 32,
      "outputs": [
        {
          "output_type": "stream",
          "name": "stdout",
          "text": [
            "Test MAPE (LSTM): 18.8%\n",
            "Test MAPE (Short): 12.0%\n",
            "\n",
            "CaseID 5999, LSTM MAPE=18.767471313476562, Short MAPE=28.437744140625\n"
          ]
        },
        {
          "output_type": "display_data",
          "data": {
            "text/plain": [
              "<Figure size 1440x360 with 1 Axes>"
            ],
            "image/png": "[encoded data removed]"
          },
          "metadata": {
            "needs_background": "light"
          }
        }
      ]
    },
    {
      "cell_type": "code",
      "source": [],
      "metadata": {
        "id": "LwnmyGcFXm9l"
      },
      "execution_count": null,
      "outputs": []
    }
  ]
}